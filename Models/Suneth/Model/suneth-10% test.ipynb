{
 "cells": [
  {
   "cell_type": "code",
   "execution_count": 116,
   "metadata": {},
   "outputs": [],
   "source": [
    "# 1.different ways to encode nominal features\n",
    "# https://towardsdatascience.com/all-about-categorical-variable-encoding-305f3361fd02"
   ]
  },
  {
   "cell_type": "code",
   "execution_count": 117,
   "metadata": {},
   "outputs": [],
   "source": [
    "import pandas as pd\n",
    "import numpy as np\n",
    "import matplotlib.pyplot as plt\n",
    "import seaborn as sns\n",
    "from sklearn.tree import DecisionTreeClassifier # Import Decision Tree Classifier\n",
    "from sklearn.model_selection import train_test_split # Import train_test_split function\n",
    "from sklearn import metrics #Import scikit-learn metrics module for accuracy calculation\n",
    "from sklearn import svm\n",
    "from sklearn.naive_bayes import GaussianNB\n",
    "from sklearn.neighbors import KNeighborsClassifier\n",
    "from sklearn.ensemble import RandomForestClassifier\n",
    "from sklearn.linear_model import LogisticRegression\n",
    "from sklearn.preprocessing import StandardScaler\n",
    "from sklearn.preprocessing import MinMaxScaler"
   ]
  },
  {
   "cell_type": "code",
   "execution_count": 118,
   "metadata": {},
   "outputs": [],
   "source": [
    "df_train = pd.read_csv('data.csv')\n",
    "df_train.head()\n",
    "train_len = len(df_train)"
   ]
  },
  {
   "cell_type": "code",
   "execution_count": 119,
   "metadata": {},
   "outputs": [],
   "source": [
    "df_test= pd.read_excel('testdata_10%.xlsx')\n",
    "df_test.head()\n",
    "test_len = len(df_test)"
   ]
  },
  {
   "cell_type": "code",
   "execution_count": 120,
   "metadata": {},
   "outputs": [
    {
     "data": {
      "text/plain": [
       "566"
      ]
     },
     "execution_count": 120,
     "metadata": {},
     "output_type": "execute_result"
    }
   ],
   "source": [
    "# Combine X \n",
    "df = pd.concat([df_train.drop('A16',axis=1), df_test.drop('A16',axis=1)])\n",
    "len(df)"
   ]
  },
  {
   "cell_type": "code",
   "execution_count": 121,
   "metadata": {},
   "outputs": [
    {
     "data": {
      "text/html": [
       "<div>\n",
       "<style scoped>\n",
       "    .dataframe tbody tr th:only-of-type {\n",
       "        vertical-align: middle;\n",
       "    }\n",
       "\n",
       "    .dataframe tbody tr th {\n",
       "        vertical-align: top;\n",
       "    }\n",
       "\n",
       "    .dataframe thead th {\n",
       "        text-align: right;\n",
       "    }\n",
       "</style>\n",
       "<table border=\"1\" class=\"dataframe\">\n",
       "  <thead>\n",
       "    <tr style=\"text-align: right;\">\n",
       "      <th></th>\n",
       "      <th>A1</th>\n",
       "      <th>A2</th>\n",
       "      <th>A3</th>\n",
       "      <th>A4</th>\n",
       "      <th>A5</th>\n",
       "      <th>A6</th>\n",
       "      <th>A7</th>\n",
       "      <th>A8</th>\n",
       "      <th>A9</th>\n",
       "      <th>A10</th>\n",
       "      <th>A11</th>\n",
       "      <th>A12</th>\n",
       "      <th>A13</th>\n",
       "      <th>A14</th>\n",
       "      <th>A15</th>\n",
       "    </tr>\n",
       "  </thead>\n",
       "  <tbody>\n",
       "    <tr>\n",
       "      <td>0</td>\n",
       "      <td>b</td>\n",
       "      <td>30.83</td>\n",
       "      <td>u</td>\n",
       "      <td>g</td>\n",
       "      <td>0.00</td>\n",
       "      <td>w</td>\n",
       "      <td>0</td>\n",
       "      <td>True</td>\n",
       "      <td>v</td>\n",
       "      <td>1.25</td>\n",
       "      <td>True</td>\n",
       "      <td>1</td>\n",
       "      <td>False</td>\n",
       "      <td>202</td>\n",
       "      <td>g</td>\n",
       "    </tr>\n",
       "    <tr>\n",
       "      <td>1</td>\n",
       "      <td>a</td>\n",
       "      <td>58.67</td>\n",
       "      <td>u</td>\n",
       "      <td>g</td>\n",
       "      <td>4.46</td>\n",
       "      <td>q</td>\n",
       "      <td>560</td>\n",
       "      <td>True</td>\n",
       "      <td>h</td>\n",
       "      <td>3.04</td>\n",
       "      <td>True</td>\n",
       "      <td>6</td>\n",
       "      <td>False</td>\n",
       "      <td>43</td>\n",
       "      <td>g</td>\n",
       "    </tr>\n",
       "    <tr>\n",
       "      <td>2</td>\n",
       "      <td>a</td>\n",
       "      <td>24.5</td>\n",
       "      <td>u</td>\n",
       "      <td>g</td>\n",
       "      <td>0.50</td>\n",
       "      <td>q</td>\n",
       "      <td>824</td>\n",
       "      <td>False</td>\n",
       "      <td>h</td>\n",
       "      <td>1.50</td>\n",
       "      <td>True</td>\n",
       "      <td>0</td>\n",
       "      <td>False</td>\n",
       "      <td>280</td>\n",
       "      <td>g</td>\n",
       "    </tr>\n",
       "    <tr>\n",
       "      <td>3</td>\n",
       "      <td>b</td>\n",
       "      <td>27.83</td>\n",
       "      <td>u</td>\n",
       "      <td>g</td>\n",
       "      <td>1.54</td>\n",
       "      <td>w</td>\n",
       "      <td>3</td>\n",
       "      <td>True</td>\n",
       "      <td>v</td>\n",
       "      <td>3.75</td>\n",
       "      <td>True</td>\n",
       "      <td>5</td>\n",
       "      <td>True</td>\n",
       "      <td>100</td>\n",
       "      <td>g</td>\n",
       "    </tr>\n",
       "    <tr>\n",
       "      <td>4</td>\n",
       "      <td>b</td>\n",
       "      <td>25</td>\n",
       "      <td>u</td>\n",
       "      <td>g</td>\n",
       "      <td>11.25</td>\n",
       "      <td>c</td>\n",
       "      <td>1208</td>\n",
       "      <td>True</td>\n",
       "      <td>v</td>\n",
       "      <td>2.50</td>\n",
       "      <td>True</td>\n",
       "      <td>17</td>\n",
       "      <td>False</td>\n",
       "      <td>200</td>\n",
       "      <td>g</td>\n",
       "    </tr>\n",
       "  </tbody>\n",
       "</table>\n",
       "</div>"
      ],
      "text/plain": [
       "  A1     A2 A3 A4     A5 A6    A7     A8 A9   A10   A11  A12    A13  A14 A15\n",
       "0  b  30.83  u  g   0.00  w     0   True  v  1.25  True    1  False  202   g\n",
       "1  a  58.67  u  g   4.46  q   560   True  h  3.04  True    6  False   43   g\n",
       "2  a   24.5  u  g   0.50  q   824  False  h  1.50  True    0  False  280   g\n",
       "3  b  27.83  u  g   1.54  w     3   True  v  3.75  True    5   True  100   g\n",
       "4  b     25  u  g  11.25  c  1208   True  v  2.50  True   17  False  200   g"
      ]
     },
     "execution_count": 121,
     "metadata": {},
     "output_type": "execute_result"
    }
   ],
   "source": [
    "df.head()"
   ]
  },
  {
   "cell_type": "code",
   "execution_count": 122,
   "metadata": {},
   "outputs": [],
   "source": [
    "# Columns A3 and A4 are same\n",
    "\n",
    "df.drop('A4', axis=1, inplace=True)\n",
    "df.replace('?',np.NaN,inplace=True)"
   ]
  },
  {
   "cell_type": "code",
   "execution_count": 123,
   "metadata": {},
   "outputs": [
    {
     "data": {
      "text/plain": [
       "A1      object\n",
       "A2     float64\n",
       "A3      object\n",
       "A4      object\n",
       "A5     float64\n",
       "A6      object\n",
       "A7       int64\n",
       "A8        bool\n",
       "A9      object\n",
       "A10    float64\n",
       "A11       bool\n",
       "A12      int64\n",
       "A13       bool\n",
       "A14      int64\n",
       "A15     object\n",
       "A16    float64\n",
       "dtype: object"
      ]
     },
     "execution_count": 123,
     "metadata": {},
     "output_type": "execute_result"
    }
   ],
   "source": [
    "df_test.dtypes"
   ]
  },
  {
   "cell_type": "code",
   "execution_count": 124,
   "metadata": {},
   "outputs": [
    {
     "name": "stdout",
     "output_type": "stream",
     "text": [
      "26.676153846153845\n"
     ]
    },
    {
     "data": {
      "image/png": "[encoded data removed]",
      "text/plain": [
       "<Figure size 432x288 with 1 Axes>"
      ]
     },
     "metadata": {
      "needs_background": "light"
     },
     "output_type": "display_data"
    }
   ],
   "source": [
    "# Calculate max frequency bar value to fill A2 null values\n",
    "bins = 13\n",
    "data = df.loc[df['A2'].notnull(), 'A2'].astype(np.float64).tolist()\n",
    "y, x, _ = plt.hist(data, histtype='bar', bins=bins)\n",
    "y_max = y.max()\n",
    "idx = np.where(y == y_max)[0][0]\n",
    "A2_fill_value = x[idx] + bins/2\n",
    "print(A2_fill_value)"
   ]
  },
  {
   "cell_type": "code",
   "execution_count": 125,
   "metadata": {},
   "outputs": [],
   "source": [
    "# Calculate mean of A14 to fill null values\n",
    "A14_fill_value = df.loc[df['A14'].notnull(), 'A14'].astype(np.float64).mean()"
   ]
  },
  {
   "cell_type": "code",
   "execution_count": 126,
   "metadata": {},
   "outputs": [],
   "source": [
    "df=df.fillna({'A2':A2_fill_value,'A14':A14_fill_value})\n",
    "df=df.fillna({'A1':'b', 'A3':'u', 'A6':'c', 'A9':'v'})"
   ]
  },
  {
   "cell_type": "code",
   "execution_count": 127,
   "metadata": {},
   "outputs": [],
   "source": [
    "df.A2 = df.A2.astype(np.float64)\n",
    "df.A14 = df.A14.astype(np.int64)\n"
   ]
  },
  {
   "cell_type": "code",
   "execution_count": 128,
   "metadata": {},
   "outputs": [],
   "source": [
    "# encode A16 lables\n",
    "df_train['A16'] = df_train['A16'].map({label:idx for idx,label in enumerate(np.unique(df_train['A16']))})\n",
    "df['A1'] = df['A1'].map({label:idx for idx,label in enumerate(np.unique(df['A1']))})\n",
    "df['A8'] = df['A8'].map({label:idx for idx,label in enumerate(np.unique(df['A8']))})\n",
    "df['A11'] = df['A11'].map({label:idx for idx,label in enumerate(np.unique(df['A11']))})\n",
    "df['A13'] = df['A13'].map({label:idx for idx,label in enumerate(np.unique(df['A13']))})\n",
    "\n"
   ]
  },
  {
   "cell_type": "code",
   "execution_count": 129,
   "metadata": {},
   "outputs": [
    {
     "data": {
      "text/html": [
       "<div>\n",
       "<style scoped>\n",
       "    .dataframe tbody tr th:only-of-type {\n",
       "        vertical-align: middle;\n",
       "    }\n",
       "\n",
       "    .dataframe tbody tr th {\n",
       "        vertical-align: top;\n",
       "    }\n",
       "\n",
       "    .dataframe thead th {\n",
       "        text-align: right;\n",
       "    }\n",
       "</style>\n",
       "<table border=\"1\" class=\"dataframe\">\n",
       "  <thead>\n",
       "    <tr style=\"text-align: right;\">\n",
       "      <th></th>\n",
       "      <th>A1</th>\n",
       "      <th>A2</th>\n",
       "      <th>A3</th>\n",
       "      <th>A5</th>\n",
       "      <th>A6</th>\n",
       "      <th>A7</th>\n",
       "      <th>A8</th>\n",
       "      <th>A9</th>\n",
       "      <th>A10</th>\n",
       "      <th>A11</th>\n",
       "      <th>A12</th>\n",
       "      <th>A13</th>\n",
       "      <th>A14</th>\n",
       "      <th>A15</th>\n",
       "    </tr>\n",
       "  </thead>\n",
       "  <tbody>\n",
       "    <tr>\n",
       "      <td>0</td>\n",
       "      <td>1</td>\n",
       "      <td>30.83</td>\n",
       "      <td>u</td>\n",
       "      <td>0.00</td>\n",
       "      <td>w</td>\n",
       "      <td>0</td>\n",
       "      <td>1</td>\n",
       "      <td>v</td>\n",
       "      <td>1.25</td>\n",
       "      <td>1</td>\n",
       "      <td>1</td>\n",
       "      <td>0</td>\n",
       "      <td>202</td>\n",
       "      <td>g</td>\n",
       "    </tr>\n",
       "    <tr>\n",
       "      <td>1</td>\n",
       "      <td>0</td>\n",
       "      <td>58.67</td>\n",
       "      <td>u</td>\n",
       "      <td>4.46</td>\n",
       "      <td>q</td>\n",
       "      <td>560</td>\n",
       "      <td>1</td>\n",
       "      <td>h</td>\n",
       "      <td>3.04</td>\n",
       "      <td>1</td>\n",
       "      <td>6</td>\n",
       "      <td>0</td>\n",
       "      <td>43</td>\n",
       "      <td>g</td>\n",
       "    </tr>\n",
       "    <tr>\n",
       "      <td>2</td>\n",
       "      <td>0</td>\n",
       "      <td>24.50</td>\n",
       "      <td>u</td>\n",
       "      <td>0.50</td>\n",
       "      <td>q</td>\n",
       "      <td>824</td>\n",
       "      <td>0</td>\n",
       "      <td>h</td>\n",
       "      <td>1.50</td>\n",
       "      <td>1</td>\n",
       "      <td>0</td>\n",
       "      <td>0</td>\n",
       "      <td>280</td>\n",
       "      <td>g</td>\n",
       "    </tr>\n",
       "    <tr>\n",
       "      <td>3</td>\n",
       "      <td>1</td>\n",
       "      <td>27.83</td>\n",
       "      <td>u</td>\n",
       "      <td>1.54</td>\n",
       "      <td>w</td>\n",
       "      <td>3</td>\n",
       "      <td>1</td>\n",
       "      <td>v</td>\n",
       "      <td>3.75</td>\n",
       "      <td>1</td>\n",
       "      <td>5</td>\n",
       "      <td>1</td>\n",
       "      <td>100</td>\n",
       "      <td>g</td>\n",
       "    </tr>\n",
       "    <tr>\n",
       "      <td>4</td>\n",
       "      <td>1</td>\n",
       "      <td>25.00</td>\n",
       "      <td>u</td>\n",
       "      <td>11.25</td>\n",
       "      <td>c</td>\n",
       "      <td>1208</td>\n",
       "      <td>1</td>\n",
       "      <td>v</td>\n",
       "      <td>2.50</td>\n",
       "      <td>1</td>\n",
       "      <td>17</td>\n",
       "      <td>0</td>\n",
       "      <td>200</td>\n",
       "      <td>g</td>\n",
       "    </tr>\n",
       "  </tbody>\n",
       "</table>\n",
       "</div>"
      ],
      "text/plain": [
       "   A1     A2 A3     A5 A6    A7  A8 A9   A10  A11  A12  A13  A14 A15\n",
       "0   1  30.83  u   0.00  w     0   1  v  1.25    1    1    0  202   g\n",
       "1   0  58.67  u   4.46  q   560   1  h  3.04    1    6    0   43   g\n",
       "2   0  24.50  u   0.50  q   824   0  h  1.50    1    0    0  280   g\n",
       "3   1  27.83  u   1.54  w     3   1  v  3.75    1    5    1  100   g\n",
       "4   1  25.00  u  11.25  c  1208   1  v  2.50    1   17    0  200   g"
      ]
     },
     "execution_count": 129,
     "metadata": {},
     "output_type": "execute_result"
    }
   ],
   "source": [
    "df.head()"
   ]
  },
  {
   "cell_type": "code",
   "execution_count": 130,
   "metadata": {},
   "outputs": [],
   "source": [
    "x_A3=pd.get_dummies(df[['A3']],drop_first=True)\n",
    "x_A6=pd.get_dummies(df[['A6']],drop_first=True)\n",
    "x_A9=pd.get_dummies(df[['A9']],drop_first=True)\n",
    "x_A15=pd.get_dummies(df[['A15']],drop_first=True)\n",
    "df=pd.concat([df['A1'],df['A2'],x_A3,df['A5'],x_A6,df['A7'],df['A8'],x_A9,df['A10'],df['A11'],df['A12'],df['A13'],df['A14'],x_A15],axis=1)\n",
    "\n"
   ]
  },
  {
   "cell_type": "code",
   "execution_count": 131,
   "metadata": {},
   "outputs": [],
   "source": [
    "#df.head()"
   ]
  },
  {
   "cell_type": "code",
   "execution_count": 132,
   "metadata": {},
   "outputs": [],
   "source": [
    "#df.columns"
   ]
  },
  {
   "cell_type": "code",
   "execution_count": 133,
   "metadata": {},
   "outputs": [],
   "source": [
    "#df.head()"
   ]
  },
  {
   "cell_type": "code",
   "execution_count": 134,
   "metadata": {},
   "outputs": [
    {
     "name": "stdout",
     "output_type": "stream",
     "text": [
      "train size:  552\n",
      "test size:  14\n"
     ]
    }
   ],
   "source": [
    "# Separate back to train_X, and test_X and join train_y to train_X\n",
    "\n",
    "df_train = pd.concat([df.iloc[0:-test_len], df_train['A16']], axis=1)\n",
    "print(\"train size: \", len(df_train))\n",
    "\n",
    "df_test = df.iloc[-test_len:]\n",
    "print(\"test size: \",len( df_test))"
   ]
  },
  {
   "cell_type": "code",
   "execution_count": 135,
   "metadata": {},
   "outputs": [],
   "source": [
    "#df_train.head()\n",
    "#df_train.columns"
   ]
  },
  {
   "cell_type": "code",
   "execution_count": 136,
   "metadata": {},
   "outputs": [],
   "source": [
    "feature_cols=df_train.drop('A16', axis=1).columns\n",
    "\n",
    "#split dataset in features and target variable\n",
    "X = df_train[feature_cols] # Features\n",
    "y = df_train.A16 # Target variable"
   ]
  },
  {
   "cell_type": "code",
   "execution_count": 137,
   "metadata": {},
   "outputs": [],
   "source": [
    "# Split dataset into training set and test set\n",
    "# X_train, X_test, y_train, y_test = train_test_split(X, y, test_size=0.3, random_state=1) # 70% training and 30% test\n",
    "X_train = X\n",
    "y_train = y\n",
    "X_test = df_test"
   ]
  },
  {
   "cell_type": "code",
   "execution_count": 138,
   "metadata": {},
   "outputs": [],
   "source": [
    "#-------------- Feature scaling --------------------------------------------\n",
    "# random forest, decision trees do not need feature scaling\n",
    "\n",
    "stdsc = StandardScaler()\n",
    "X_train = stdsc.fit_transform(X_train)\n",
    "X_test = stdsc.transform(X_test)\n"
   ]
  },
  {
   "cell_type": "code",
   "execution_count": 139,
   "metadata": {},
   "outputs": [],
   "source": [
    "#X_train.head()"
   ]
  },
  {
   "cell_type": "code",
   "execution_count": 140,
   "metadata": {},
   "outputs": [],
   "source": [
    "#X_test.head()"
   ]
  },
  {
   "cell_type": "code",
   "execution_count": 141,
   "metadata": {},
   "outputs": [],
   "source": [
    "#-------------------- Try different models ------------------------------------------------------------------"
   ]
  },
  {
   "cell_type": "code",
   "execution_count": 142,
   "metadata": {},
   "outputs": [
    {
     "name": "stdout",
     "output_type": "stream",
     "text": [
      "Model 1 Preditions:\n",
      "[1 0 0 0 0 0 0 0 0 0 1 1 1 1]\n",
      "Model 2 Preditions:\n",
      "[0 0 0 0 0 0 0 0 0 0 1 1 1 1]\n",
      "Model 3 Preditions:\n",
      "[1 0 0 0 0 0 0 0 0 0 1 1 1 0]\n",
      "Model 4 Preditions:\n",
      "[0 0 0 0 0 0 0 0 0 0 1 1 1 1]\n",
      "Model 5 Preditions:\n",
      "[0 0 0 0 0 0 0 0 0 0 1 1 1 1]\n",
      "Model 6 Preditions:\n",
      "[1 0 0 0 0 0 0 0 0 0 1 1 1 1]\n",
      "Model 7 Preditions:\n",
      "[1 0 0 0 0 0 0 0 0 0 1 1 1 1]\n"
     ]
    },
    {
     "name": "stderr",
     "output_type": "stream",
     "text": [
      "C:\\ProgramData\\Anaconda3\\lib\\site-packages\\sklearn\\linear_model\\logistic.py:432: FutureWarning: Default solver will be changed to 'lbfgs' in 0.22. Specify a solver to silence this warning.\n",
      "  FutureWarning)\n"
     ]
    },
    {
     "data": {
      "text/plain": [
       "<Figure size 648x216 with 0 Axes>"
      ]
     },
     "metadata": {},
     "output_type": "display_data"
    }
   ],
   "source": [
    "model_1 = DecisionTreeClassifier(max_depth=2)\n",
    "model_2 = DecisionTreeClassifier(criterion=\"entropy\", max_depth=4)\n",
    "model_3 = GaussianNB()\n",
    "model_4 = KNeighborsClassifier(n_neighbors=5)\n",
    "model_5 = RandomForestClassifier(n_estimators=200, random_state = 17)\n",
    "model_6 = svm.SVC(kernel='linear')\n",
    "model_7 = LogisticRegression()\n",
    "\n",
    "models = [model_1, model_2, model_3, model_4, model_5, model_6, model_7]\n",
    "\n",
    "from sklearn.metrics import mean_absolute_error\n",
    "\n",
    "# Function for comparing different models\n",
    "def score_model(model, X_t=X_train, X_v=X_test, y_t=y_train):\n",
    "    model.fit(X_t, y_t)\n",
    "    preds = model.predict(X_v)\n",
    "    return preds\n",
    "\n",
    "plt.figure(figsize=(9,3))\n",
    "\n",
    "for i in range(0, len(models)):\n",
    "    preds = score_model(models[i])\n",
    "    \n",
    "    \n",
    "    print(\"Model %d Preditions:\" % ((i+1)))\n",
    "    print(preds)"
   ]
  },
  {
   "cell_type": "code",
   "execution_count": null,
   "metadata": {},
   "outputs": [],
   "source": []
  }
 ],
 "metadata": {
  "kernelspec": {
   "display_name": "Python 3",
   "language": "python",
   "name": "python3"
  },
  "language_info": {
   "codemirror_mode": {
    "name": "ipython",
    "version": 3
   },
   "file_extension": ".py",
   "mimetype": "text/x-python",
   "name": "python",
   "nbconvert_exporter": "python",
   "pygments_lexer": "ipython3",
   "version": "3.7.4"
  }
 },
 "nbformat": 4,
 "nbformat_minor": 2
}
