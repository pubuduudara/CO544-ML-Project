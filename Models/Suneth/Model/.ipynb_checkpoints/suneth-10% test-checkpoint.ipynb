{
 "cells": [
  {
   "cell_type": "code",
   "execution_count": 1,
   "metadata": {},
   "outputs": [],
   "source": [
    "# 1.different ways to encode nominal features\n",
    "# https://towardsdatascience.com/all-about-categorical-variable-encoding-305f3361fd02"
   ]
  },
  {
   "cell_type": "code",
   "execution_count": 2,
   "metadata": {},
   "outputs": [],
   "source": [
    "import pandas as pd\n",
    "import numpy as np\n",
    "import matplotlib.pyplot as plt\n",
    "import seaborn as sns\n",
    "from sklearn.tree import DecisionTreeClassifier # Import Decision Tree Classifier\n",
    "from sklearn.model_selection import train_test_split # Import train_test_split function\n",
    "from sklearn import metrics #Import scikit-learn metrics module for accuracy calculation\n",
    "from sklearn import svm\n",
    "from sklearn.naive_bayes import GaussianNB\n",
    "from sklearn.neighbors import KNeighborsClassifier\n",
    "from sklearn.ensemble import RandomForestClassifier\n",
    "from sklearn.linear_model import LogisticRegression\n",
    "from sklearn.preprocessing import StandardScaler\n",
    "from sklearn.preprocessing import MinMaxScaler"
   ]
  },
  {
   "cell_type": "code",
   "execution_count": 3,
   "metadata": {},
   "outputs": [],
   "source": [
    "df_train = pd.read_csv('data.csv')\n",
    "df_train.head()\n",
    "train_len = len(df_train)"
   ]
  },
  {
   "cell_type": "code",
   "execution_count": 4,
   "metadata": {},
   "outputs": [],
   "source": [
    "df_test= pd.read_excel('testdata_10%.xlsx')\n",
    "df_test.head()\n",
    "test_len = len(df_test)"
   ]
  },
  {
   "cell_type": "code",
   "execution_count": 5,
   "metadata": {},
   "outputs": [
    {
     "data": {
      "text/plain": [
       "566"
      ]
     },
     "execution_count": 5,
     "metadata": {},
     "output_type": "execute_result"
    }
   ],
   "source": [
    "# Combine X \n",
    "df = pd.concat([df_train.drop('A16',axis=1), df_test.drop('A16',axis=1)])\n",
    "len(df)"
   ]
  },
  {
   "cell_type": "code",
   "execution_count": 6,
   "metadata": {},
   "outputs": [
    {
     "data": {
      "text/html": [
       "<div>\n",
       "<style scoped>\n",
       "    .dataframe tbody tr th:only-of-type {\n",
       "        vertical-align: middle;\n",
       "    }\n",
       "\n",
       "    .dataframe tbody tr th {\n",
       "        vertical-align: top;\n",
       "    }\n",
       "\n",
       "    .dataframe thead th {\n",
       "        text-align: right;\n",
       "    }\n",
       "</style>\n",
       "<table border=\"1\" class=\"dataframe\">\n",
       "  <thead>\n",
       "    <tr style=\"text-align: right;\">\n",
       "      <th></th>\n",
       "      <th>A1</th>\n",
       "      <th>A2</th>\n",
       "      <th>A3</th>\n",
       "      <th>A4</th>\n",
       "      <th>A5</th>\n",
       "      <th>A6</th>\n",
       "      <th>A7</th>\n",
       "      <th>A8</th>\n",
       "      <th>A9</th>\n",
       "      <th>A10</th>\n",
       "      <th>A11</th>\n",
       "      <th>A12</th>\n",
       "      <th>A13</th>\n",
       "      <th>A14</th>\n",
       "      <th>A15</th>\n",
       "    </tr>\n",
       "  </thead>\n",
       "  <tbody>\n",
       "    <tr>\n",
       "      <td>0</td>\n",
       "      <td>b</td>\n",
       "      <td>30.83</td>\n",
       "      <td>u</td>\n",
       "      <td>g</td>\n",
       "      <td>0.00</td>\n",
       "      <td>w</td>\n",
       "      <td>0</td>\n",
       "      <td>True</td>\n",
       "      <td>v</td>\n",
       "      <td>1.25</td>\n",
       "      <td>True</td>\n",
       "      <td>1</td>\n",
       "      <td>False</td>\n",
       "      <td>202</td>\n",
       "      <td>g</td>\n",
       "    </tr>\n",
       "    <tr>\n",
       "      <td>1</td>\n",
       "      <td>a</td>\n",
       "      <td>58.67</td>\n",
       "      <td>u</td>\n",
       "      <td>g</td>\n",
       "      <td>4.46</td>\n",
       "      <td>q</td>\n",
       "      <td>560</td>\n",
       "      <td>True</td>\n",
       "      <td>h</td>\n",
       "      <td>3.04</td>\n",
       "      <td>True</td>\n",
       "      <td>6</td>\n",
       "      <td>False</td>\n",
       "      <td>43</td>\n",
       "      <td>g</td>\n",
       "    </tr>\n",
       "    <tr>\n",
       "      <td>2</td>\n",
       "      <td>a</td>\n",
       "      <td>24.5</td>\n",
       "      <td>u</td>\n",
       "      <td>g</td>\n",
       "      <td>0.50</td>\n",
       "      <td>q</td>\n",
       "      <td>824</td>\n",
       "      <td>False</td>\n",
       "      <td>h</td>\n",
       "      <td>1.50</td>\n",
       "      <td>True</td>\n",
       "      <td>0</td>\n",
       "      <td>False</td>\n",
       "      <td>280</td>\n",
       "      <td>g</td>\n",
       "    </tr>\n",
       "    <tr>\n",
       "      <td>3</td>\n",
       "      <td>b</td>\n",
       "      <td>27.83</td>\n",
       "      <td>u</td>\n",
       "      <td>g</td>\n",
       "      <td>1.54</td>\n",
       "      <td>w</td>\n",
       "      <td>3</td>\n",
       "      <td>True</td>\n",
       "      <td>v</td>\n",
       "      <td>3.75</td>\n",
       "      <td>True</td>\n",
       "      <td>5</td>\n",
       "      <td>True</td>\n",
       "      <td>100</td>\n",
       "      <td>g</td>\n",
       "    </tr>\n",
       "    <tr>\n",
       "      <td>4</td>\n",
       "      <td>b</td>\n",
       "      <td>25</td>\n",
       "      <td>u</td>\n",
       "      <td>g</td>\n",
       "      <td>11.25</td>\n",
       "      <td>c</td>\n",
       "      <td>1208</td>\n",
       "      <td>True</td>\n",
       "      <td>v</td>\n",
       "      <td>2.50</td>\n",
       "      <td>True</td>\n",
       "      <td>17</td>\n",
       "      <td>False</td>\n",
       "      <td>200</td>\n",
       "      <td>g</td>\n",
       "    </tr>\n",
       "  </tbody>\n",
       "</table>\n",
       "</div>"
      ],
      "text/plain": [
       "  A1     A2 A3 A4     A5 A6    A7     A8 A9   A10   A11  A12    A13  A14 A15\n",
       "0  b  30.83  u  g   0.00  w     0   True  v  1.25  True    1  False  202   g\n",
       "1  a  58.67  u  g   4.46  q   560   True  h  3.04  True    6  False   43   g\n",
       "2  a   24.5  u  g   0.50  q   824  False  h  1.50  True    0  False  280   g\n",
       "3  b  27.83  u  g   1.54  w     3   True  v  3.75  True    5   True  100   g\n",
       "4  b     25  u  g  11.25  c  1208   True  v  2.50  True   17  False  200   g"
      ]
     },
     "execution_count": 6,
     "metadata": {},
     "output_type": "execute_result"
    }
   ],
   "source": [
    "df.head()"
   ]
  },
  {
   "cell_type": "code",
   "execution_count": 7,
   "metadata": {},
   "outputs": [],
   "source": [
    "# Columns A3 and A4 are same\n",
    "\n",
    "df.drop('A4', axis=1, inplace=True)\n",
    "df.replace('?',np.NaN,inplace=True)"
   ]
  },
  {
   "cell_type": "code",
   "execution_count": 8,
   "metadata": {},
   "outputs": [
    {
     "data": {
      "text/plain": [
       "A1      object\n",
       "A2     float64\n",
       "A3      object\n",
       "A4      object\n",
       "A5     float64\n",
       "A6      object\n",
       "A7       int64\n",
       "A8        bool\n",
       "A9      object\n",
       "A10    float64\n",
       "A11       bool\n",
       "A12      int64\n",
       "A13       bool\n",
       "A14      int64\n",
       "A15     object\n",
       "A16    float64\n",
       "dtype: object"
      ]
     },
     "execution_count": 8,
     "metadata": {},
     "output_type": "execute_result"
    }
   ],
   "source": [
    "df_test.dtypes"
   ]
  },
  {
   "cell_type": "code",
   "execution_count": 9,
   "metadata": {},
   "outputs": [
    {
     "name": "stdout",
     "output_type": "stream",
     "text": [
      "26.676153846153845\n"
     ]
    },
    {
     "data": {
      "image/png": "[encoded data removed]",
      "text/plain": [
       "<Figure size 432x288 with 1 Axes>"
      ]
     },
     "metadata": {
      "needs_background": "light"
     },
     "output_type": "display_data"
    }
   ],
   "source": [
    "# Calculate max frequency bar value to fill A2 null values\n",
    "bins = 13\n",
    "data = df.loc[df['A2'].notnull(), 'A2'].astype(np.float64).tolist()\n",
    "y, x, _ = plt.hist(data, histtype='bar', bins=bins)\n",
    "y_max = y.max()\n",
    "idx = np.where(y == y_max)[0][0]\n",
    "A2_fill_value = x[idx] + bins/2\n",
    "print(A2_fill_value)"
   ]
  },
  {
   "cell_type": "code",
   "execution_count": 10,
   "metadata": {},
   "outputs": [],
   "source": [
    "# Calculate mean of A14 to fill null values\n",
    "A14_fill_value = df.loc[df['A14'].notnull(), 'A14'].astype(np.float64).mean()"
   ]
  },
  {
   "cell_type": "code",
   "execution_count": 11,
   "metadata": {},
   "outputs": [],
   "source": [
    "df=df.fillna({'A2':A2_fill_value,'A14':A14_fill_value})\n",
    "df=df.fillna({'A1':'b', 'A3':'u', 'A6':'c', 'A9':'v'})"
   ]
  },
  {
   "cell_type": "code",
   "execution_count": 12,
   "metadata": {},
   "outputs": [],
   "source": [
    "df.A2 = df.A2.astype(np.float64)\n",
    "df.A14 = df.A14.astype(np.int64)\n"
   ]
  },
  {
   "cell_type": "code",
   "execution_count": 13,
   "metadata": {},
   "outputs": [],
   "source": [
    "# encode A16 lables\n",
    "df_train['A16'] = df_train['A16'].map({label:idx for idx,label in enumerate(np.unique(df_train['A16']))})\n",
    "df['A1'] = df['A1'].map({label:idx for idx,label in enumerate(np.unique(df['A1']))})\n",
    "df['A8'] = df['A8'].map({label:idx for idx,label in enumerate(np.unique(df['A8']))})\n",
    "df['A11'] = df['A11'].map({label:idx for idx,label in enumerate(np.unique(df['A11']))})\n",
    "df['A13'] = df['A13'].map({label:idx for idx,label in enumerate(np.unique(df['A13']))})\n",
    "\n"
   ]
  },
  {
   "cell_type": "code",
   "execution_count": 14,
   "metadata": {},
   "outputs": [
    {
     "data": {
      "text/html": [
       "<div>\n",
       "<style scoped>\n",
       "    .dataframe tbody tr th:only-of-type {\n",
       "        vertical-align: middle;\n",
       "    }\n",
       "\n",
       "    .dataframe tbody tr th {\n",
       "        vertical-align: top;\n",
       "    }\n",
       "\n",
       "    .dataframe thead th {\n",
       "        text-align: right;\n",
       "    }\n",
       "</style>\n",
       "<table border=\"1\" class=\"dataframe\">\n",
       "  <thead>\n",
       "    <tr style=\"text-align: right;\">\n",
       "      <th></th>\n",
       "      <th>A1</th>\n",
       "      <th>A2</th>\n",
       "      <th>A3</th>\n",
       "      <th>A5</th>\n",
       "      <th>A6</th>\n",
       "      <th>A7</th>\n",
       "      <th>A8</th>\n",
       "      <th>A9</th>\n",
       "      <th>A10</th>\n",
       "      <th>A11</th>\n",
       "      <th>A12</th>\n",
       "      <th>A13</th>\n",
       "      <th>A14</th>\n",
       "      <th>A15</th>\n",
       "    </tr>\n",
       "  </thead>\n",
       "  <tbody>\n",
       "    <tr>\n",
       "      <td>0</td>\n",
       "      <td>1</td>\n",
       "      <td>30.83</td>\n",
       "      <td>u</td>\n",
       "      <td>0.00</td>\n",
       "      <td>w</td>\n",
       "      <td>0</td>\n",
       "      <td>1</td>\n",
       "      <td>v</td>\n",
       "      <td>1.25</td>\n",
       "      <td>1</td>\n",
       "      <td>1</td>\n",
       "      <td>0</td>\n",
       "      <td>202</td>\n",
       "      <td>g</td>\n",
       "    </tr>\n",
       "    <tr>\n",
       "      <td>1</td>\n",
       "      <td>0</td>\n",
       "      <td>58.67</td>\n",
       "      <td>u</td>\n",
       "      <td>4.46</td>\n",
       "      <td>q</td>\n",
       "      <td>560</td>\n",
       "      <td>1</td>\n",
       "      <td>h</td>\n",
       "      <td>3.04</td>\n",
       "      <td>1</td>\n",
       "      <td>6</td>\n",
       "      <td>0</td>\n",
       "      <td>43</td>\n",
       "      <td>g</td>\n",
       "    </tr>\n",
       "    <tr>\n",
       "      <td>2</td>\n",
       "      <td>0</td>\n",
       "      <td>24.50</td>\n",
       "      <td>u</td>\n",
       "      <td>0.50</td>\n",
       "      <td>q</td>\n",
       "      <td>824</td>\n",
       "      <td>0</td>\n",
       "      <td>h</td>\n",
       "      <td>1.50</td>\n",
       "      <td>1</td>\n",
       "      <td>0</td>\n",
       "      <td>0</td>\n",
       "      <td>280</td>\n",
       "      <td>g</td>\n",
       "    </tr>\n",
       "    <tr>\n",
       "      <td>3</td>\n",
       "      <td>1</td>\n",
       "      <td>27.83</td>\n",
       "      <td>u</td>\n",
       "      <td>1.54</td>\n",
       "      <td>w</td>\n",
       "      <td>3</td>\n",
       "      <td>1</td>\n",
       "      <td>v</td>\n",
       "      <td>3.75</td>\n",
       "      <td>1</td>\n",
       "      <td>5</td>\n",
       "      <td>1</td>\n",
       "      <td>100</td>\n",
       "      <td>g</td>\n",
       "    </tr>\n",
       "    <tr>\n",
       "      <td>4</td>\n",
       "      <td>1</td>\n",
       "      <td>25.00</td>\n",
       "      <td>u</td>\n",
       "      <td>11.25</td>\n",
       "      <td>c</td>\n",
       "      <td>1208</td>\n",
       "      <td>1</td>\n",
       "      <td>v</td>\n",
       "      <td>2.50</td>\n",
       "      <td>1</td>\n",
       "      <td>17</td>\n",
       "      <td>0</td>\n",
       "      <td>200</td>\n",
       "      <td>g</td>\n",
       "    </tr>\n",
       "  </tbody>\n",
       "</table>\n",
       "</div>"
      ],
      "text/plain": [
       "   A1     A2 A3     A5 A6    A7  A8 A9   A10  A11  A12  A13  A14 A15\n",
       "0   1  30.83  u   0.00  w     0   1  v  1.25    1    1    0  202   g\n",
       "1   0  58.67  u   4.46  q   560   1  h  3.04    1    6    0   43   g\n",
       "2   0  24.50  u   0.50  q   824   0  h  1.50    1    0    0  280   g\n",
       "3   1  27.83  u   1.54  w     3   1  v  3.75    1    5    1  100   g\n",
       "4   1  25.00  u  11.25  c  1208   1  v  2.50    1   17    0  200   g"
      ]
     },
     "execution_count": 14,
     "metadata": {},
     "output_type": "execute_result"
    }
   ],
   "source": [
    "df.head()"
   ]
  },
  {
   "cell_type": "code",
   "execution_count": 15,
   "metadata": {},
   "outputs": [],
   "source": [
    "x_A3=pd.get_dummies(df[['A3']],drop_first=True)\n",
    "x_A6=pd.get_dummies(df[['A6']],drop_first=True)\n",
    "x_A9=pd.get_dummies(df[['A9']],drop_first=True)\n",
    "x_A15=pd.get_dummies(df[['A15']],drop_first=True)\n",
    "df=pd.concat([df['A1'],df['A2'],x_A3,df['A5'],x_A6,df['A7'],df['A8'],x_A9,df['A10'],df['A11'],df['A12'],df['A13'],df['A14'],x_A15],axis=1)\n",
    "\n"
   ]
  },
  {
   "cell_type": "code",
   "execution_count": 16,
   "metadata": {},
   "outputs": [],
   "source": [
    "#df.head()"
   ]
  },
  {
   "cell_type": "code",
   "execution_count": 17,
   "metadata": {},
   "outputs": [],
   "source": [
    "#df.columns"
   ]
  },
  {
   "cell_type": "code",
   "execution_count": 18,
   "metadata": {},
   "outputs": [],
   "source": [
    "#df.head()"
   ]
  },
  {
   "cell_type": "code",
   "execution_count": 19,
   "metadata": {},
   "outputs": [],
   "source": [
    "#-------------- Feature scaling --------------------------------------------\n",
    "# random forest, decision trees do not need feature scaling\n",
    "\n",
    "stdsc = StandardScaler()\n",
    "\n",
    "x = df.values #returns a numpy array\n",
    "#min_max_scaler = preprocessing.MinMaxScaler()\n",
    "x_scaled = stdsc.fit_transform(x)\n",
    "df = pd.DataFrame(x_scaled)\n"
   ]
  },
  {
   "cell_type": "code",
   "execution_count": 20,
   "metadata": {},
   "outputs": [
    {
     "name": "stdout",
     "output_type": "stream",
     "text": [
      "train size:  552\n",
      "test size:  14\n"
     ]
    }
   ],
   "source": [
    "# Separate back to train_X, and test_X and join train_y to train_X\n",
    "\n",
    "df_train = pd.concat([df.iloc[0:-test_len], df_train['A16']], axis=1)\n",
    "print(\"train size: \", len(df_train))\n",
    "\n",
    "df_test = df.iloc[-test_len:]\n",
    "print(\"test size: \",len( df_test))"
   ]
  },
  {
   "cell_type": "code",
   "execution_count": 21,
   "metadata": {},
   "outputs": [],
   "source": [
    "#df_train.head()\n",
    "#df_train.columns"
   ]
  },
  {
   "cell_type": "code",
   "execution_count": 22,
   "metadata": {},
   "outputs": [],
   "source": [
    "feature_cols=df_train.drop('A16', axis=1).columns\n",
    "\n",
    "#split dataset in features and target variable\n",
    "X = df_train[feature_cols] # Features\n",
    "y = df_train.A16 # Target variable"
   ]
  },
  {
   "cell_type": "code",
   "execution_count": 23,
   "metadata": {},
   "outputs": [],
   "source": [
    "# Split dataset into training set and test set\n",
    "# X_train, X_test, y_train, y_test = train_test_split(X, y, test_size=0.3, random_state=1) # 70% training and 30% test\n",
    "X_train = X\n",
    "y_train = y\n",
    "X_test = df_test"
   ]
  },
  {
   "cell_type": "code",
   "execution_count": 24,
   "metadata": {},
   "outputs": [
    {
     "data": {
      "text/html": [
       "<div>\n",
       "<style scoped>\n",
       "    .dataframe tbody tr th:only-of-type {\n",
       "        vertical-align: middle;\n",
       "    }\n",
       "\n",
       "    .dataframe tbody tr th {\n",
       "        vertical-align: top;\n",
       "    }\n",
       "\n",
       "    .dataframe thead th {\n",
       "        text-align: right;\n",
       "    }\n",
       "</style>\n",
       "<table border=\"1\" class=\"dataframe\">\n",
       "  <thead>\n",
       "    <tr style=\"text-align: right;\">\n",
       "      <th></th>\n",
       "      <th>0</th>\n",
       "      <th>1</th>\n",
       "      <th>2</th>\n",
       "      <th>3</th>\n",
       "      <th>4</th>\n",
       "      <th>5</th>\n",
       "      <th>6</th>\n",
       "      <th>7</th>\n",
       "      <th>8</th>\n",
       "      <th>9</th>\n",
       "      <th>...</th>\n",
       "      <th>25</th>\n",
       "      <th>26</th>\n",
       "      <th>27</th>\n",
       "      <th>28</th>\n",
       "      <th>29</th>\n",
       "      <th>30</th>\n",
       "      <th>31</th>\n",
       "      <th>32</th>\n",
       "      <th>33</th>\n",
       "      <th>34</th>\n",
       "    </tr>\n",
       "  </thead>\n",
       "  <tbody>\n",
       "    <tr>\n",
       "      <td>0</td>\n",
       "      <td>0.655204</td>\n",
       "      <td>-0.079232</td>\n",
       "      <td>0.559665</td>\n",
       "      <td>-0.55422</td>\n",
       "      <td>-0.959997</td>\n",
       "      <td>-0.496685</td>\n",
       "      <td>-0.244796</td>\n",
       "      <td>-0.210429</td>\n",
       "      <td>-0.2011</td>\n",
       "      <td>-0.286737</td>\n",
       "      <td>...</td>\n",
       "      <td>-0.059549</td>\n",
       "      <td>0.861126</td>\n",
       "      <td>-0.111903</td>\n",
       "      <td>-0.321305</td>\n",
       "      <td>0.87994</td>\n",
       "      <td>-0.309071</td>\n",
       "      <td>-0.895850</td>\n",
       "      <td>0.087991</td>\n",
       "      <td>-0.10351</td>\n",
       "      <td>-0.311286</td>\n",
       "    </tr>\n",
       "    <tr>\n",
       "      <td>1</td>\n",
       "      <td>-1.526241</td>\n",
       "      <td>2.231408</td>\n",
       "      <td>0.559665</td>\n",
       "      <td>-0.55422</td>\n",
       "      <td>-0.076669</td>\n",
       "      <td>-0.496685</td>\n",
       "      <td>-0.244796</td>\n",
       "      <td>-0.210429</td>\n",
       "      <td>-0.2011</td>\n",
       "      <td>-0.286737</td>\n",
       "      <td>...</td>\n",
       "      <td>-0.059549</td>\n",
       "      <td>-1.161270</td>\n",
       "      <td>-0.111903</td>\n",
       "      <td>0.187311</td>\n",
       "      <td>0.87994</td>\n",
       "      <td>0.661706</td>\n",
       "      <td>-0.895850</td>\n",
       "      <td>-0.799456</td>\n",
       "      <td>-0.10351</td>\n",
       "      <td>-0.311286</td>\n",
       "    </tr>\n",
       "    <tr>\n",
       "      <td>2</td>\n",
       "      <td>-1.526241</td>\n",
       "      <td>-0.604603</td>\n",
       "      <td>0.559665</td>\n",
       "      <td>-0.55422</td>\n",
       "      <td>-0.860969</td>\n",
       "      <td>-0.496685</td>\n",
       "      <td>-0.244796</td>\n",
       "      <td>-0.210429</td>\n",
       "      <td>-0.2011</td>\n",
       "      <td>-0.286737</td>\n",
       "      <td>...</td>\n",
       "      <td>-0.059549</td>\n",
       "      <td>-1.161270</td>\n",
       "      <td>-0.111903</td>\n",
       "      <td>-0.250270</td>\n",
       "      <td>0.87994</td>\n",
       "      <td>-0.503226</td>\n",
       "      <td>-0.895850</td>\n",
       "      <td>0.523343</td>\n",
       "      <td>-0.10351</td>\n",
       "      <td>-0.311286</td>\n",
       "    </tr>\n",
       "    <tr>\n",
       "      <td>3</td>\n",
       "      <td>0.655204</td>\n",
       "      <td>-0.328223</td>\n",
       "      <td>0.559665</td>\n",
       "      <td>-0.55422</td>\n",
       "      <td>-0.654991</td>\n",
       "      <td>-0.496685</td>\n",
       "      <td>-0.244796</td>\n",
       "      <td>-0.210429</td>\n",
       "      <td>-0.2011</td>\n",
       "      <td>-0.286737</td>\n",
       "      <td>...</td>\n",
       "      <td>-0.059549</td>\n",
       "      <td>0.861126</td>\n",
       "      <td>-0.111903</td>\n",
       "      <td>0.389053</td>\n",
       "      <td>0.87994</td>\n",
       "      <td>0.467551</td>\n",
       "      <td>1.116258</td>\n",
       "      <td>-0.481314</td>\n",
       "      <td>-0.10351</td>\n",
       "      <td>-0.311286</td>\n",
       "    </tr>\n",
       "    <tr>\n",
       "      <td>4</td>\n",
       "      <td>0.655204</td>\n",
       "      <td>-0.563105</td>\n",
       "      <td>0.559665</td>\n",
       "      <td>-0.55422</td>\n",
       "      <td>1.268127</td>\n",
       "      <td>2.013348</td>\n",
       "      <td>-0.244796</td>\n",
       "      <td>-0.210429</td>\n",
       "      <td>-0.2011</td>\n",
       "      <td>-0.286737</td>\n",
       "      <td>...</td>\n",
       "      <td>-0.059549</td>\n",
       "      <td>0.861126</td>\n",
       "      <td>-0.111903</td>\n",
       "      <td>0.033874</td>\n",
       "      <td>0.87994</td>\n",
       "      <td>2.797416</td>\n",
       "      <td>-0.895850</td>\n",
       "      <td>0.076828</td>\n",
       "      <td>-0.10351</td>\n",
       "      <td>-0.311286</td>\n",
       "    </tr>\n",
       "  </tbody>\n",
       "</table>\n",
       "<p>5 rows × 35 columns</p>\n",
       "</div>"
      ],
      "text/plain": [
       "         0         1         2        3         4         5         6   \\\n",
       "0  0.655204 -0.079232  0.559665 -0.55422 -0.959997 -0.496685 -0.244796   \n",
       "1 -1.526241  2.231408  0.559665 -0.55422 -0.076669 -0.496685 -0.244796   \n",
       "2 -1.526241 -0.604603  0.559665 -0.55422 -0.860969 -0.496685 -0.244796   \n",
       "3  0.655204 -0.328223  0.559665 -0.55422 -0.654991 -0.496685 -0.244796   \n",
       "4  0.655204 -0.563105  0.559665 -0.55422  1.268127  2.013348 -0.244796   \n",
       "\n",
       "         7       8         9   ...        25        26        27        28  \\\n",
       "0 -0.210429 -0.2011 -0.286737  ... -0.059549  0.861126 -0.111903 -0.321305   \n",
       "1 -0.210429 -0.2011 -0.286737  ... -0.059549 -1.161270 -0.111903  0.187311   \n",
       "2 -0.210429 -0.2011 -0.286737  ... -0.059549 -1.161270 -0.111903 -0.250270   \n",
       "3 -0.210429 -0.2011 -0.286737  ... -0.059549  0.861126 -0.111903  0.389053   \n",
       "4 -0.210429 -0.2011 -0.286737  ... -0.059549  0.861126 -0.111903  0.033874   \n",
       "\n",
       "        29        30        31        32       33        34  \n",
       "0  0.87994 -0.309071 -0.895850  0.087991 -0.10351 -0.311286  \n",
       "1  0.87994  0.661706 -0.895850 -0.799456 -0.10351 -0.311286  \n",
       "2  0.87994 -0.503226 -0.895850  0.523343 -0.10351 -0.311286  \n",
       "3  0.87994  0.467551  1.116258 -0.481314 -0.10351 -0.311286  \n",
       "4  0.87994  2.797416 -0.895850  0.076828 -0.10351 -0.311286  \n",
       "\n",
       "[5 rows x 35 columns]"
      ]
     },
     "execution_count": 24,
     "metadata": {},
     "output_type": "execute_result"
    }
   ],
   "source": [
    "X_train.head()"
   ]
  },
  {
   "cell_type": "code",
   "execution_count": 25,
   "metadata": {},
   "outputs": [
    {
     "data": {
      "text/html": [
       "<div>\n",
       "<style scoped>\n",
       "    .dataframe tbody tr th:only-of-type {\n",
       "        vertical-align: middle;\n",
       "    }\n",
       "\n",
       "    .dataframe tbody tr th {\n",
       "        vertical-align: top;\n",
       "    }\n",
       "\n",
       "    .dataframe thead th {\n",
       "        text-align: right;\n",
       "    }\n",
       "</style>\n",
       "<table border=\"1\" class=\"dataframe\">\n",
       "  <thead>\n",
       "    <tr style=\"text-align: right;\">\n",
       "      <th></th>\n",
       "      <th>0</th>\n",
       "      <th>1</th>\n",
       "      <th>2</th>\n",
       "      <th>3</th>\n",
       "      <th>4</th>\n",
       "      <th>5</th>\n",
       "      <th>6</th>\n",
       "      <th>7</th>\n",
       "      <th>8</th>\n",
       "      <th>9</th>\n",
       "      <th>...</th>\n",
       "      <th>25</th>\n",
       "      <th>26</th>\n",
       "      <th>27</th>\n",
       "      <th>28</th>\n",
       "      <th>29</th>\n",
       "      <th>30</th>\n",
       "      <th>31</th>\n",
       "      <th>32</th>\n",
       "      <th>33</th>\n",
       "      <th>34</th>\n",
       "    </tr>\n",
       "  </thead>\n",
       "  <tbody>\n",
       "    <tr>\n",
       "      <td>552</td>\n",
       "      <td>0.655204</td>\n",
       "      <td>0.073483</td>\n",
       "      <td>-1.786783</td>\n",
       "      <td>1.804339</td>\n",
       "      <td>0.822502</td>\n",
       "      <td>-0.496685</td>\n",
       "      <td>-0.244796</td>\n",
       "      <td>-0.210429</td>\n",
       "      <td>-0.2011</td>\n",
       "      <td>-0.286737</td>\n",
       "      <td>...</td>\n",
       "      <td>-0.059549</td>\n",
       "      <td>-1.161270</td>\n",
       "      <td>-0.111903</td>\n",
       "      <td>0.815268</td>\n",
       "      <td>0.879940</td>\n",
       "      <td>-0.503226</td>\n",
       "      <td>1.116258</td>\n",
       "      <td>-0.179917</td>\n",
       "      <td>-0.10351</td>\n",
       "      <td>-0.311286</td>\n",
       "    </tr>\n",
       "    <tr>\n",
       "      <td>553</td>\n",
       "      <td>0.655204</td>\n",
       "      <td>-0.971450</td>\n",
       "      <td>0.559665</td>\n",
       "      <td>-0.554220</td>\n",
       "      <td>-0.935240</td>\n",
       "      <td>-0.496685</td>\n",
       "      <td>-0.244796</td>\n",
       "      <td>-0.210429</td>\n",
       "      <td>-0.2011</td>\n",
       "      <td>-0.286737</td>\n",
       "      <td>...</td>\n",
       "      <td>-0.059549</td>\n",
       "      <td>0.861126</td>\n",
       "      <td>-0.111903</td>\n",
       "      <td>-0.392341</td>\n",
       "      <td>-1.136441</td>\n",
       "      <td>-0.309071</td>\n",
       "      <td>-0.895850</td>\n",
       "      <td>0.300086</td>\n",
       "      <td>-0.10351</td>\n",
       "      <td>-0.311286</td>\n",
       "    </tr>\n",
       "    <tr>\n",
       "      <td>554</td>\n",
       "      <td>0.655204</td>\n",
       "      <td>-0.971450</td>\n",
       "      <td>0.559665</td>\n",
       "      <td>-0.554220</td>\n",
       "      <td>-0.910483</td>\n",
       "      <td>-0.496685</td>\n",
       "      <td>-0.244796</td>\n",
       "      <td>-0.210429</td>\n",
       "      <td>-0.2011</td>\n",
       "      <td>-0.286737</td>\n",
       "      <td>...</td>\n",
       "      <td>-0.059549</td>\n",
       "      <td>0.861126</td>\n",
       "      <td>-0.111903</td>\n",
       "      <td>-0.640967</td>\n",
       "      <td>-1.136441</td>\n",
       "      <td>-0.503226</td>\n",
       "      <td>-0.895850</td>\n",
       "      <td>0.076828</td>\n",
       "      <td>-0.10351</td>\n",
       "      <td>-0.311286</td>\n",
       "    </tr>\n",
       "    <tr>\n",
       "      <td>555</td>\n",
       "      <td>0.655204</td>\n",
       "      <td>-0.797987</td>\n",
       "      <td>0.559665</td>\n",
       "      <td>-0.554220</td>\n",
       "      <td>-0.514372</td>\n",
       "      <td>-0.496685</td>\n",
       "      <td>-0.244796</td>\n",
       "      <td>-0.210429</td>\n",
       "      <td>-0.2011</td>\n",
       "      <td>-0.286737</td>\n",
       "      <td>...</td>\n",
       "      <td>-0.059549</td>\n",
       "      <td>0.861126</td>\n",
       "      <td>-0.111903</td>\n",
       "      <td>-0.640967</td>\n",
       "      <td>-1.136441</td>\n",
       "      <td>-0.503226</td>\n",
       "      <td>-0.895850</td>\n",
       "      <td>-0.146429</td>\n",
       "      <td>-0.10351</td>\n",
       "      <td>-0.311286</td>\n",
       "    </tr>\n",
       "    <tr>\n",
       "      <td>556</td>\n",
       "      <td>-1.526241</td>\n",
       "      <td>-0.376361</td>\n",
       "      <td>0.559665</td>\n",
       "      <td>-0.554220</td>\n",
       "      <td>-0.902561</td>\n",
       "      <td>-0.496685</td>\n",
       "      <td>-0.244796</td>\n",
       "      <td>-0.210429</td>\n",
       "      <td>-0.2011</td>\n",
       "      <td>-0.286737</td>\n",
       "      <td>...</td>\n",
       "      <td>-0.059549</td>\n",
       "      <td>-1.161270</td>\n",
       "      <td>-0.111903</td>\n",
       "      <td>-0.640967</td>\n",
       "      <td>-1.136441</td>\n",
       "      <td>-0.309071</td>\n",
       "      <td>1.116258</td>\n",
       "      <td>0.478691</td>\n",
       "      <td>-0.10351</td>\n",
       "      <td>-0.311286</td>\n",
       "    </tr>\n",
       "  </tbody>\n",
       "</table>\n",
       "<p>5 rows × 35 columns</p>\n",
       "</div>"
      ],
      "text/plain": [
       "           0         1         2         3         4         5         6   \\\n",
       "552  0.655204  0.073483 -1.786783  1.804339  0.822502 -0.496685 -0.244796   \n",
       "553  0.655204 -0.971450  0.559665 -0.554220 -0.935240 -0.496685 -0.244796   \n",
       "554  0.655204 -0.971450  0.559665 -0.554220 -0.910483 -0.496685 -0.244796   \n",
       "555  0.655204 -0.797987  0.559665 -0.554220 -0.514372 -0.496685 -0.244796   \n",
       "556 -1.526241 -0.376361  0.559665 -0.554220 -0.902561 -0.496685 -0.244796   \n",
       "\n",
       "           7       8         9   ...        25        26        27        28  \\\n",
       "552 -0.210429 -0.2011 -0.286737  ... -0.059549 -1.161270 -0.111903  0.815268   \n",
       "553 -0.210429 -0.2011 -0.286737  ... -0.059549  0.861126 -0.111903 -0.392341   \n",
       "554 -0.210429 -0.2011 -0.286737  ... -0.059549  0.861126 -0.111903 -0.640967   \n",
       "555 -0.210429 -0.2011 -0.286737  ... -0.059549  0.861126 -0.111903 -0.640967   \n",
       "556 -0.210429 -0.2011 -0.286737  ... -0.059549 -1.161270 -0.111903 -0.640967   \n",
       "\n",
       "           29        30        31        32       33        34  \n",
       "552  0.879940 -0.503226  1.116258 -0.179917 -0.10351 -0.311286  \n",
       "553 -1.136441 -0.309071 -0.895850  0.300086 -0.10351 -0.311286  \n",
       "554 -1.136441 -0.503226 -0.895850  0.076828 -0.10351 -0.311286  \n",
       "555 -1.136441 -0.503226 -0.895850 -0.146429 -0.10351 -0.311286  \n",
       "556 -1.136441 -0.309071  1.116258  0.478691 -0.10351 -0.311286  \n",
       "\n",
       "[5 rows x 35 columns]"
      ]
     },
     "execution_count": 25,
     "metadata": {},
     "output_type": "execute_result"
    }
   ],
   "source": [
    "X_test.head()"
   ]
  },
  {
   "cell_type": "code",
   "execution_count": 26,
   "metadata": {},
   "outputs": [],
   "source": [
    "#-------------------- Try different models ------------------------------------------------------------------"
   ]
  },
  {
   "cell_type": "code",
   "execution_count": 27,
   "metadata": {},
   "outputs": [
    {
     "name": "stdout",
     "output_type": "stream",
     "text": [
      "[1, 0, 0, 0, 0, 0, 0, 0, 0, 0, 1, 1, 1, 1]\n"
     ]
    }
   ],
   "source": [
    "# Create Decision Tree classifer object\n",
    "dtc_model_1 = DecisionTreeClassifier(max_depth=2)\n",
    "\n",
    "# Train Decision Tree Classifer\n",
    "dtc_model_1.fit(X_train,y_train)\n",
    "\n",
    "#Predict the response for test dataset\n",
    "dtc_pred = dtc_model_1.predict(X_test)\n",
    "\n",
    "print(dtc_pred.tolist())"
   ]
  },
  {
   "cell_type": "code",
   "execution_count": 28,
   "metadata": {},
   "outputs": [
    {
     "name": "stdout",
     "output_type": "stream",
     "text": [
      "[0, 0, 0, 0, 0, 0, 0, 0, 0, 0, 1, 1, 1, 1]\n"
     ]
    }
   ],
   "source": [
    "dtc_model_2 = DecisionTreeClassifier(criterion=\"entropy\", max_depth=4)\n",
    "\n",
    "# Train Decision Tree Classifer\n",
    "dtc_model_2.fit(X_train,y_train)\n",
    "\n",
    "#Predict the response for test dataset\n",
    "dtc_pred_2 = dtc_model_2.predict(X_test)\n",
    "\n",
    "print(dtc_pred_2.tolist())"
   ]
  },
  {
   "cell_type": "code",
   "execution_count": 29,
   "metadata": {},
   "outputs": [
    {
     "name": "stdout",
     "output_type": "stream",
     "text": [
      "[1, 0, 0, 0, 0, 0, 0, 0, 0, 0, 1, 1, 1, 0]\n"
     ]
    }
   ],
   "source": [
    "#Create a Gaussian Classifier\n",
    "gnb_model = GaussianNB()\n",
    "\n",
    "#Train the model using the training sets\n",
    "gnb_model.fit(X_train, y_train)\n",
    "\n",
    "#Predict the response for test dataset\n",
    "gnb_pred = gnb_model.predict(X_test)\n",
    "\n",
    "\n",
    "print(gnb_pred.tolist())"
   ]
  },
  {
   "cell_type": "code",
   "execution_count": 30,
   "metadata": {},
   "outputs": [
    {
     "name": "stdout",
     "output_type": "stream",
     "text": [
      "[0, 0, 0, 0, 0, 0, 0, 0, 0, 0, 1, 1, 1, 1]\n"
     ]
    }
   ],
   "source": [
    "knn_model = KNeighborsClassifier(n_neighbors=5)\n",
    "\n",
    "#Train the model using the training sets\n",
    "knn_model.fit(X_train, y_train)\n",
    "\n",
    "knn_pred = knn_model.predict(X_test)\n",
    "\n",
    "print(knn_pred.tolist())"
   ]
  },
  {
   "cell_type": "code",
   "execution_count": 31,
   "metadata": {},
   "outputs": [
    {
     "name": "stdout",
     "output_type": "stream",
     "text": [
      "[0, 0, 0, 0, 0, 0, 0, 0, 0, 0, 1, 1, 1, 1]\n"
     ]
    }
   ],
   "source": [
    "rfc_model=RandomForestClassifier(n_estimators=200, random_state = 17)\n",
    "\n",
    "#Train the model using the training sets y_pred=clf.predict(X_test)\n",
    "rfc_model.fit(X_train,y_train)\n",
    "\n",
    "rfc_pred=rfc_model.predict(X_test)\n",
    "\n",
    "print(rfc_pred.tolist())"
   ]
  },
  {
   "cell_type": "code",
   "execution_count": 32,
   "metadata": {},
   "outputs": [
    {
     "name": "stdout",
     "output_type": "stream",
     "text": [
      "[1, 0, 0, 0, 0, 0, 0, 0, 0, 0, 1, 1, 1, 1]\n"
     ]
    }
   ],
   "source": [
    "#Create a svm Classifier\n",
    "svm_model = svm.SVC(kernel='linear') # Linear Kernel\n",
    "\n",
    "#Train the model using the training sets\n",
    "svm_model.fit(X_train, y_train)\n",
    "\n",
    "#Predict the response for test dataset\n",
    "svm_pred = svm_model.predict(X_test)\n",
    "\n",
    "print(svm_pred.tolist())"
   ]
  },
  {
   "cell_type": "code",
   "execution_count": 33,
   "metadata": {},
   "outputs": [
    {
     "name": "stdout",
     "output_type": "stream",
     "text": [
      "[1, 0, 0, 0, 0, 0, 0, 0, 0, 0, 1, 1, 1, 1]\n"
     ]
    },
    {
     "name": "stderr",
     "output_type": "stream",
     "text": [
      "C:\\ProgramData\\Anaconda3\\lib\\site-packages\\sklearn\\linear_model\\logistic.py:432: FutureWarning: Default solver will be changed to 'lbfgs' in 0.22. Specify a solver to silence this warning.\n",
      "  FutureWarning)\n"
     ]
    }
   ],
   "source": [
    "lr_model = LogisticRegression()\n",
    "\n",
    "# fit the model with data\n",
    "lr_model.fit(X_train,y_train)\n",
    "\n",
    "lr_pred=lr_model.predict(X_test)\n",
    "\n",
    "print(lr_pred.tolist())"
   ]
  },
  {
   "cell_type": "code",
   "execution_count": null,
   "metadata": {},
   "outputs": [],
   "source": []
  },
  {
   "cell_type": "code",
   "execution_count": null,
   "metadata": {},
   "outputs": [],
   "source": []
  }
 ],
 "metadata": {
  "kernelspec": {
   "display_name": "Python 3",
   "language": "python",
   "name": "python3"
  },
  "language_info": {
   "codemirror_mode": {
    "name": "ipython",
    "version": 3
   },
   "file_extension": ".py",
   "mimetype": "text/x-python",
   "name": "python",
   "nbconvert_exporter": "python",
   "pygments_lexer": "ipython3",
   "version": "3.7.4"
  }
 },
 "nbformat": 4,
 "nbformat_minor": 2
}
