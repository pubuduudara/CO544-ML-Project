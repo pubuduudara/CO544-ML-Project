{
 "cells": [
  {
   "cell_type": "code",
   "execution_count": 32,
   "metadata": {},
   "outputs": [],
   "source": [
    "import tensorflow as tf\n",
    "import numpy as np\n",
    "import pandas as pd\n",
    "import matplotlib.pyplot as plt\n",
    "\n",
    "from sklearn.model_selection import train_test_split # Import train_test_split function\n",
    "from sklearn import metrics #Import scikit-learn metrics module for accuracy calculation\n",
    "from sklearn.preprocessing import StandardScaler\n",
    "from sklearn.preprocessing import MinMaxScaler\n",
    "\n",
    "from keras.models import Sequential\n",
    "from keras.layers import Dense"
   ]
  },
  {
   "cell_type": "code",
   "execution_count": 33,
   "metadata": {},
   "outputs": [],
   "source": [
    "df=pd.read_csv('data.csv')\n",
    "qmark='?'\n",
    "df.replace(qmark,np.NaN,inplace=True)\n",
    "#shuffle data set\n",
    "#df = df.sample(frac=1)\n"
   ]
  },
  {
   "cell_type": "code",
   "execution_count": 34,
   "metadata": {},
   "outputs": [],
   "source": [
    "# #drop all the null values\n",
    "# df=df.dropna(axis=0)\n",
    "\n",
    "df=df.fillna({'A1':'b'})\n",
    "df=df.fillna({'A2':31.976661,'A14':186.928044})\n",
    "df=df.fillna({'A3':'u'})\n",
    "df=df.fillna({'A4':'g'})\n",
    "df=df.fillna({'A6':'c'})\n",
    "df=df.fillna({'A9':'v'})"
   ]
  },
  {
   "cell_type": "code",
   "execution_count": 35,
   "metadata": {},
   "outputs": [],
   "source": [
    "# encode A16 lables success =1 failure =0\n",
    "df['A16'] = df['A16'].map({label:idx for idx,label in enumerate(np.unique(df['A16']))})\n",
    "\n",
    "\n",
    "# encode A1 lables a =0 b =1\n",
    "df['A1'] = df['A1'].map({label:idx for idx,label in enumerate(np.unique(df['A1']))})\n",
    "\n",
    "# encode A8 lables false =0 true =1\n",
    "df['A8'] = df['A8'].map({label:idx for idx,label in enumerate(np.unique(df['A8']))})\n",
    "\n",
    "# encode A11 lables false =0 true =1\n",
    "df['A11'] = df['A11'].map({label:idx for idx,label in enumerate(np.unique(df['A11']))})\n",
    "\n",
    "# encode A13 lables false =0 true =1\n",
    "df['A13'] = df['A13'].map({label:idx for idx,label in enumerate(np.unique(df['A13']))})\n",
    "\n",
    "\n"
   ]
  },
  {
   "cell_type": "code",
   "execution_count": 36,
   "metadata": {},
   "outputs": [],
   "source": [
    "x_A3=pd.get_dummies(df[['A3']],drop_first=True)\n",
    "\n",
    "x_A4=pd.get_dummies(df[['A4']],drop_first=True)\n",
    "\n",
    "x_A6=pd.get_dummies(df[['A6']])\n",
    "x_A9=pd.get_dummies(df[['A9']])\n",
    "x_A15=pd.get_dummies(df[['A15']],drop_first=True)\n",
    "\n",
    "df=pd.concat([df['A1'],df['A2'],x_A3,x_A4,df['A5'],x_A6,df['A7'],df['A8'],x_A9,df['A10'],df['A11'],df['A12'],df['A13'],df['A14'],x_A15,df['A16']],axis=1)\n",
    "#df.to_csv(r'myfile.csv', index = False) \n",
    "\n"
   ]
  },
  {
   "cell_type": "code",
   "execution_count": 37,
   "metadata": {},
   "outputs": [],
   "source": [
    "feature_cols=df.columns\n",
    "feature_cols=feature_cols[0:len(feature_cols)-1]\n",
    "#split dataset in features and target variable\n",
    "#feature_cols = ['pregnant', 'insulin', 'bmi', 'age','glucose','bp','pedigree']\n",
    "X = df[feature_cols] # Features\n",
    "y = df.A16 # Target variable"
   ]
  },
  {
   "cell_type": "code",
   "execution_count": 38,
   "metadata": {},
   "outputs": [],
   "source": [
    "# Split dataset into training set and test set\n",
    "X_train, X_test, y_train, y_test = train_test_split(X, y, test_size=0.3, random_state=1) # 70% training and 30% test\n"
   ]
  },
  {
   "cell_type": "code",
   "execution_count": 39,
   "metadata": {},
   "outputs": [],
   "source": [
    "\n",
    "#-------------- Feature scaling --------------------------------------------\n",
    "# random forest, decision trees do not need feature scaling\n",
    "\n",
    "stdsc = StandardScaler()\n",
    "X_train = stdsc.fit_transform(X_train)\n",
    "X_test = stdsc.transform(X_test)\n"
   ]
  },
  {
   "cell_type": "code",
   "execution_count": 40,
   "metadata": {},
   "outputs": [],
   "source": [
    "from keras.models import Sequential\n",
    "from keras.layers import Dense\n",
    "\n",
    "model = Sequential()\n",
    "\n",
    "model.add(Dense(39, activation='relu', input_shape=(39,)))\n",
    "\n",
    "model.add(Dense(39, activation='relu'))\n",
    "\n",
    "model.add(Dense(1, activation='sigmoid'))"
   ]
  },
  {
   "cell_type": "code",
   "execution_count": 41,
   "metadata": {},
   "outputs": [
    {
     "name": "stdout",
     "output_type": "stream",
     "text": [
      "Epoch 1/4\n",
      "386/386 [==============================] - 1s 2ms/step - loss: 0.5645 - accuracy: 0.7254\n",
      "Epoch 2/4\n",
      "386/386 [==============================] - 1s 2ms/step - loss: 0.3819 - accuracy: 0.8238\n",
      "Epoch 3/4\n",
      "386/386 [==============================] - 1s 2ms/step - loss: 0.3310 - accuracy: 0.8549\n",
      "Epoch 4/4\n",
      "386/386 [==============================] - 1s 2ms/step - loss: 0.2868 - accuracy: 0.8860\n"
     ]
    },
    {
     "data": {
      "text/plain": [
       "<keras.callbacks.callbacks.History at 0x20825b48f88>"
      ]
     },
     "execution_count": 41,
     "metadata": {},
     "output_type": "execute_result"
    }
   ],
   "source": [
    "model.compile(loss='binary_crossentropy',\n",
    "              optimizer='sgd',\n",
    "              metrics=['accuracy'])\n",
    "                   \n",
    "model.fit(X_train, y_train,epochs=4, batch_size=1, verbose=1)"
   ]
  },
  {
   "cell_type": "code",
   "execution_count": 42,
   "metadata": {},
   "outputs": [],
   "source": [
    "y_pred = model.predict_classes(X_test)"
   ]
  },
  {
   "cell_type": "code",
   "execution_count": 43,
   "metadata": {},
   "outputs": [
    {
     "name": "stdout",
     "output_type": "stream",
     "text": [
      "166/166 [==============================] - 0s 375us/step\n",
      "[0.27274753745779934, 0.891566276550293]\n"
     ]
    }
   ],
   "source": [
    "score = model.evaluate(X_test, y_test,verbose=1)\n",
    "\n",
    "print(score)"
   ]
  },
  {
   "cell_type": "code",
   "execution_count": null,
   "metadata": {},
   "outputs": [],
   "source": []
  }
 ],
 "metadata": {
  "kernelspec": {
   "display_name": "Python 3",
   "language": "python",
   "name": "python3"
  },
  "language_info": {
   "codemirror_mode": {
    "name": "ipython",
    "version": 3
   },
   "file_extension": ".py",
   "mimetype": "text/x-python",
   "name": "python",
   "nbconvert_exporter": "python",
   "pygments_lexer": "ipython3",
   "version": "3.7.6"
  }
 },
 "nbformat": 4,
 "nbformat_minor": 2
}
