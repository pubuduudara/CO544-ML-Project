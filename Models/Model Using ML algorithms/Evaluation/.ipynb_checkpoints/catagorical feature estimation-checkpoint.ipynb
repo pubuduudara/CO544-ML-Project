{
 "cells": [
  {
   "cell_type": "code",
   "execution_count": 1,
   "metadata": {},
   "outputs": [],
   "source": [
    "import pandas as pd\n",
    "import seaborn as sns"
   ]
  },
  {
   "cell_type": "code",
   "execution_count": 2,
   "metadata": {},
   "outputs": [],
   "source": [
    "df_train=pd.read_csv('data.csv')\n",
    "df_test=pd.read_excel('testdata_10%.xlsx')\n",
    "frames=[df_train,df_test]\n",
    "df=pd.concat(frames)"
   ]
  },
  {
   "cell_type": "code",
   "execution_count": 19,
   "metadata": {},
   "outputs": [
    {
     "name": "stdout",
     "output_type": "stream",
     "text": [
      "   Frequency      %\n",
      "g         11  78.57\n",
      "p          3  21.43\n",
      "    Frequency      %\n",
      "g         416  75.36\n",
      "p         130  23.55\n",
      "?           4   0.72\n",
      "gg          2   0.36\n"
     ]
    }
   ],
   "source": [
    "# df_train['A1'].value_counts()\n",
    "\n",
    "def find(frame,featrue):\n",
    "    dfr=pd.DataFrame()\n",
    "    Frequency=frame[featrue].value_counts() \n",
    "    total_count=len(frame)\n",
    "    percentage=Frequency/total_count * 100\n",
    "    percentage=percentage.round(2)\n",
    "    dfr['Frequency']=frame[featrue].value_counts() \n",
    "    dfr['%']=percentage\n",
    "    return dfr \n",
    "print(find(df_test,'A3'))\n",
    "print(find(df_train,'A3'))"
   ]
  },
  {
   "cell_type": "code",
   "execution_count": null,
   "metadata": {},
   "outputs": [],
   "source": []
  }
 ],
 "metadata": {
  "kernelspec": {
   "display_name": "Python 3",
   "language": "python",
   "name": "python3"
  },
  "language_info": {
   "codemirror_mode": {
    "name": "ipython",
    "version": 3
   },
   "file_extension": ".py",
   "mimetype": "text/x-python",
   "name": "python",
   "nbconvert_exporter": "python",
   "pygments_lexer": "ipython3",
   "version": "3.7.6"
  }
 },
 "nbformat": 4,
 "nbformat_minor": 4
}
